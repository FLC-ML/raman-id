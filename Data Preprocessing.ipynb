{
  "nbformat": 4,
  "nbformat_minor": 0,
  "metadata": {
    "colab": {
      "name": "Data Preprocessing",
      "provenance": [],
      "collapsed_sections": [],
      "authorship_tag": "ABX9TyNNUuZnBsxFOA8Q/BiWGGgE",
      "include_colab_link": true
    },
    "kernelspec": {
      "name": "python3",
      "display_name": "Python 3"
    }
  },
  "cells": [
    {
      "cell_type": "markdown",
      "metadata": {
        "id": "view-in-github",
        "colab_type": "text"
      },
      "source": [
        "<a href=\"https://colab.research.google.com/github/FLC-ML/raman-id/blob/master/Data%20Preprocessing.ipynb\" target=\"_parent\"><img src=\"https://colab.research.google.com/assets/colab-badge.svg\" alt=\"Open In Colab\"/></a>"
      ]
    },
    {
      "cell_type": "markdown",
      "metadata": {
        "id": "59FLSZmdeiBM",
        "colab_type": "text"
      },
      "source": [
        "Mount Google Drive"
      ]
    },
    {
      "cell_type": "code",
      "metadata": {
        "id": "3OYki7IDeHX4",
        "colab_type": "code",
        "colab": {
          "base_uri": "https://localhost:8080/",
          "height": 36
        },
        "outputId": "09e9b0da-156a-4218-c8d2-12afbfdc028e"
      },
      "source": [
        "from google.colab import drive\n",
        "drive.mount('/content/drive')"
      ],
      "execution_count": 15,
      "outputs": [
        {
          "output_type": "stream",
          "text": [
            "Drive already mounted at /content/drive; to attempt to forcibly remount, call drive.mount(\"/content/drive\", force_remount=True).\n"
          ],
          "name": "stdout"
        }
      ]
    },
    {
      "cell_type": "markdown",
      "metadata": {
        "id": "rxgzaBcQeldn",
        "colab_type": "text"
      },
      "source": [
        "Import Libraries"
      ]
    },
    {
      "cell_type": "code",
      "metadata": {
        "id": "ksWsJ2MgetbI",
        "colab_type": "code",
        "colab": {}
      },
      "source": [
        "# import packages\n",
        "import tensorflow as tf\n",
        "import matplotlib.pyplot as plt\n",
        "from matplotlib.pyplot import figure\n",
        "import seaborn as sns\n",
        "import numpy as np\n",
        "import pandas as pd"
      ],
      "execution_count": 16,
      "outputs": []
    },
    {
      "cell_type": "markdown",
      "metadata": {
        "id": "zbgs-ataeocp",
        "colab_type": "text"
      },
      "source": [
        "Load Data"
      ]
    },
    {
      "cell_type": "code",
      "metadata": {
        "id": "vHJkZoP6ev17",
        "colab_type": "code",
        "colab": {
          "base_uri": "https://localhost:8080/",
          "height": 129
        },
        "outputId": "d3740f44-a82b-4f0f-abfc-e9e3531ac4e4"
      },
      "source": [
        "# load data (specific to google drive)\n",
        "X_test = np.load('/content/drive/My Drive/ML Group/Datasets/data/X_test.npy')\n",
        "y_test = np.load('/content/drive/My Drive/ML Group/Datasets/data/y_test.npy')\n",
        "\n",
        "X = np.load('/content/drive/My Drive/ML Group/Datasets/data/X_reference.npy')\n",
        "y = np.load('/content/drive/My Drive/ML Group/Datasets/data/y_reference.npy')\n",
        "\n",
        "X_fine = np.load('/content/drive/My Drive/ML Group/Datasets/data/X_finetune.npy')\n",
        "y_fine = np.load('/content/drive/My Drive/ML Group/Datasets/data/y_finetune.npy')\n",
        "\n",
        "print(\"X Reference Dataset Shape: \", X.shape)\n",
        "print(\"y Reference Dataset Shape: \", y.shape)\n",
        "print(\"X Test Dataset Shape: \", X_test.shape)\n",
        "print(\"y Test Dataset Shape: \", y_test.shape)\n",
        "print(\"X Finetuning Dataset Shape: \", X_fine.shape)\n",
        "print(\"y Finetuning Dataset Shape: \", y_fine.shape)"
      ],
      "execution_count": 17,
      "outputs": [
        {
          "output_type": "stream",
          "text": [
            "X Reference Dataset Shape:  (60000, 1000)\n",
            "y Reference Dataset Shape:  (60000,)\n",
            "X Test Dataset Shape:  (3000, 1000)\n",
            "y Test Dataset Shape:  (3000,)\n",
            "X Finetuning Dataset Shape:  (3000, 1000)\n",
            "y Finetuning Dataset Shape:  (3000,)\n"
          ],
          "name": "stdout"
        }
      ]
    },
    {
      "cell_type": "markdown",
      "metadata": {
        "id": "21_1D6FRBeav",
        "colab_type": "text"
      },
      "source": [
        "Smooth Data"
      ]
    },
    {
      "cell_type": "code",
      "metadata": {
        "id": "nQQ-dR5MBdmo",
        "colab_type": "code",
        "colab": {
          "base_uri": "https://localhost:8080/",
          "height": 141
        },
        "outputId": "d6f6da63-6b7f-4f03-bbb7-45e89eff3bd7"
      },
      "source": [
        "from numpy import convolve\n",
        "\n",
        "def movingaverage (values, window):\n",
        "    weights = np.repeat(1.0, window)/window\n",
        "    sma = np.convolve(values, weights, 'valid')\n",
        "    return sma\n",
        "    \n",
        "X_ref = []\n",
        "for i in X:\n",
        "  x_new = movingaverage(i, 10)\n",
        "  X_ref.append(x_new)\n",
        "    \n",
        "#Sample of Smoothing\n",
        "\n",
        "plt.figure(figsize = (8,1))\n",
        "plt.xlabel('Wavenumber [$cm^{-1}$]')\n",
        "plt.ylabel('Intensity')\n",
        "plt.plot(X[0], color = 'grey', linewidth = 1, alpha = 0.5, label = 'C. albicans')   #original signal\n",
        "plt.plot(X_ref[0], color = '#dd5182', linewidth = 1.5)                              #smoothed signal\n",
        "plt.legend()\n"
      ],
      "execution_count": 23,
      "outputs": [
        {
          "output_type": "execute_result",
          "data": {
            "text/plain": [
              "<matplotlib.legend.Legend at 0x7fc404dc6e10>"
            ]
          },
          "metadata": {
            "tags": []
          },
          "execution_count": 23
        },
        {
          "output_type": "display_data",
          "data": {
            "image/png": "[encoded data removed]",
            "text/plain": [
              "<Figure size 576x72 with 1 Axes>"
            ]
          },
          "metadata": {
            "tags": [],
            "needs_background": "light"
          }
        }
      ]
    },
    {
      "cell_type": "markdown",
      "metadata": {
        "id": "Yc-mZdmuZ8Sa",
        "colab_type": "text"
      },
      "source": [
        "Save Smoothed Dataset to 'ML Group' as X_ref"
      ]
    },
    {
      "cell_type": "code",
      "metadata": {
        "id": "eCkgX_5HZ-sV",
        "colab_type": "code",
        "colab": {}
      },
      "source": [
        "np.save('/content/drive/My Drive/ML Group/Datasets/data/X_ref.npy', X_ref)"
      ],
      "execution_count": null,
      "outputs": []
    }
  ]
}